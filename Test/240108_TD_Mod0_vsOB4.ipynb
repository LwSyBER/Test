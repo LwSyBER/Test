{
 "cells": [
  {
   "cell_type": "markdown",
   "id": "853ef3f9",
   "metadata": {},
   "source": [
    "# TD on resource allocation\n",
    "\n",
    "\n",
    "## Model 1 - cell-free\n",
    "\n",
    "To begin with, we consider an extremely simplified representation of a cell:\n",
    "\n",
    "<img src='240109_Model1.png' width=50%/>\n",
    "\n",
    "As depicted above, the cell is made of only five coarse-grained molecular components: \n",
    "- an internalized substrate $s_i$\n",
    "- a species $a$ representing energy\n",
    "- a pool of ribosomes $r$ \n",
    "- a pool of housekeeping proteins $h$\n",
    "- a pool of enzymes for metabolism $e_{m1}$\n",
    "\n",
    "The total energy available to the cell must be divided between the tasks of producing $r$, $h$ and $e_{m1}$. This is represented in the model by the parameters $f_R$, $f_H$ and $f_{em1}$, which represent the proportion of energy allocated to the production of $r$, $h$ and $e_{m1}$ respectively.\n",
    "\n",
    "Ribosomes produce $r$, $h$ and $e_{m1}$ according to a Michaelis Menten law: \n",
    "$g_{r}(a) = \\frac{f_x * a * v_r}{(f_x * a) + k_r}$ where f_x is the proportion of energy allocated to the production of the considered species.\n",
    "\n",
    "Similarly, the metabolic enzymes $e_{m1}$ enable the regeneration of energy $a$ according to a Michaelis Menten law: \n",
    "$g_{em1}(s_i) = \\frac{s_i * v_{em1}}{s_i + k_{em1}}$"
   ]
  },
  {
   "cell_type": "markdown",
   "id": "7863e9b4",
   "metadata": {},
   "source": [
    "### Questions\n",
    "1.1) Write the system of differential equations describing this model.\n",
    "\n",
    "1.2) Using the graph below, we will describe the effects of variations in the proportions of each species produced.\n",
    "\n",
    "&emsp; a) Describe the effects on the system of a variation in the __ribosome fraction__. What happens when no ribosomes are neoformed? What happens when only ribosomes are produced? \n",
    "\n",
    "&emsp; b) Describe the effects on the system of a variation in the __metabolic enzymes fraction__. What happens when no metabolic enzymes are neoformed? What happens when only metabolic enzymes are produced? \n",
    "\n",
    "&emsp; c) Describe the effects on the system of a variation in the __housekeeping proteins fraction__. What happens when no housekeeping proteins are neoformed? What happens when only housekeeping proteins are produced? Interpret the biological significance. "
   ]
  },
  {
   "cell_type": "code",
   "execution_count": 22,
   "id": "8d9a4cf6",
   "metadata": {},
   "outputs": [
    {
     "data": {
      "application/vnd.jupyter.widget-view+json": {
       "model_id": "1be1479d00e34c58bd59b2ee0470810b",
       "version_major": 2,
       "version_minor": 0
      },
      "text/plain": [
       "interactive(children=(FloatSlider(value=0.2, description='f_em1', max=1.0), FloatSlider(value=0.4, description…"
      ]
     },
     "metadata": {},
     "output_type": "display_data"
    },
    {
     "data": {
      "text/plain": [
       "<function __main__.plot_dynamic(f_em1, f_r, f_h)>"
      ]
     },
     "execution_count": 22,
     "metadata": {},
     "output_type": "execute_result"
    }
   ],
   "source": [
    "import numpy as np\n",
    "import scipy.integrate as integrate\n",
    "import matplotlib.pyplot as plt\n",
    "from ipywidgets import interact_manual, widgets\n",
    "from IPython.display import display\n",
    "\n",
    "def MM(x, vr, kr, fi):\n",
    "    return (x * fi * vr) / (x * fi + kr)\n",
    "\n",
    "def derivs_mod0(t, y, params):\n",
    "    Si, A, R, H, Em1 = y\n",
    "    dSi_dt = - MM(Si, params['v_a'], params['k_a'],1) * Em1\n",
    "    dA_dt = MM(Si, params['v_a'], params['k_a'],1) * Em1 - MM(A, params['v_r'], params['k_r'], params['f_em1']) * R - MM(A, params['v_r'], params['k_r'], params['f_h']) * R - MM(A, params['v_r'], params['k_r'], params['f_r']) * R\n",
    "    dR_dt = MM(A, params['v_r'], params['k_r'], params['f_r']) * R\n",
    "    dH_dt = MM(A, params['v_r'], params['k_r'], params['f_h']) * R\n",
    "    dEm1_dt = MM(A, params['v_r'], params['k_r'], params['f_em1']) * R\n",
    "    return np.array([dSi_dt, dA_dt, dR_dt, dH_dt, dEm1_dt])\n",
    "\n",
    "def simulate_mod0(params, duration, initial_conditions):\n",
    "    y0 = np.array(initial_conditions)\n",
    "    ode_result = integrate.solve_ivp(lambda t, y: derivs_mod0(t, y, params),\n",
    "                                     (0, duration),\n",
    "                                     y0,\n",
    "                                     dense_output=True,\n",
    "                                     rtol=1e-6, atol=1e-9)\n",
    "    return ode_result.t, ode_result.y\n",
    "\n",
    "def plot_dynamic(f_em1, f_r, f_h):\n",
    "    # Fix values for v_a, k_a, v_r, k_r, and duration\n",
    "    v_a, k_a, v_r, k_r, duration = 10, 1, 10, 1, 2\n",
    "    \n",
    "    # Check if the sum of f_em1, f_r, and f_h is equal to 1\n",
    "    if not np.isclose(f_em1 + f_r + f_h, 1, rtol=1e-5):\n",
    "        print(\"Error: Sum of f_em1, f_r, and f_h must be equal to 1.\")\n",
    "        return\n",
    "    \n",
    "    model_params = {'v_a': v_a, 'k_a': k_a, 'v_r': v_r, 'k_r': k_r, 'f_em1': f_em1, 'f_h': f_h, 'f_r': f_r}\n",
    "    initial_conditions = [5, 0, 1, 1, 1]  # You can adjust the initial conditions as needed\n",
    "    \n",
    "    t, results = simulate_mod0(model_params, duration, initial_conditions)\n",
    "    \n",
    "    # Plotting the results\n",
    "    plt.figure(figsize=(12, 8))\n",
    "    \n",
    "    # Plot each variable separately with specified colors\n",
    "    plt.plot(t, results[0], label='Si', color='orange')\n",
    "    plt.plot(t, results[1], label='A', color='brown')\n",
    "    plt.plot(t, results[2], label='R', color='lightgreen')\n",
    "    plt.plot(t, results[3], label='H', color='red')\n",
    "    plt.plot(t, results[4], label='Em1', color='darkgreen') \n",
    "    \n",
    "    plt.xlabel('Time')\n",
    "    plt.ylabel('Concentration')\n",
    "    plt.title('Simulation of the model 0 - cell-free')\n",
    "    \n",
    "    # Set y-axis limits to [0, 8]\n",
    "    plt.ylim([0, 8])\n",
    "    \n",
    "    # Add legend based on the variables in your model\n",
    "    plt.legend()\n",
    "    \n",
    "    # Annotate the plot with parameter values\n",
    "    params_text = '\\n'.join([f'{key}: {value}' for key, value in model_params.items()])\n",
    "    plt.text(1.05, 0.5, params_text, transform=plt.gca().transAxes, fontsize=12, verticalalignment='center')\n",
    "    \n",
    "    # Annotate the plot with initial composition\n",
    "    init_comp_text = f'Initial Composition:\\nSi: {initial_conditions[0]}, A: {initial_conditions[1]}, R: {initial_conditions[2]}, H: {initial_conditions[3]}, Em1: {initial_conditions[4]}'\n",
    "    plt.text(1.05, 0.2, init_comp_text, transform=plt.gca().transAxes, fontsize=12, verticalalignment='center')\n",
    "    \n",
    "    plt.show()\n",
    "\n",
    "# Create FloatSliders with initial values\n",
    "f_em1 = widgets.FloatSlider(min=0, max=1, step=0.1, value=0.2)\n",
    "f_r = widgets.FloatSlider(min=0, max=1, step=0.1, value=0.4)\n",
    "f_h = widgets.FloatSlider(min=0, max=1, step=0.1, value=0.4)\n",
    "\n",
    "# Use interact_manual with the plotting function and sliders\n",
    "interact_manual(plot_dynamic, f_em1=f_em1, f_r=f_r, f_h=f_h)\n"
   ]
  },
  {
   "cell_type": "markdown",
   "id": "1e020b79",
   "metadata": {},
   "source": [
    "1.3) Using the graph below, what species can be absent from the initial conditions without the system collapsing? Which species are essential to initialize the model?"
   ]
  },
  {
   "cell_type": "code",
   "execution_count": 24,
   "id": "8018b734",
   "metadata": {},
   "outputs": [
    {
     "data": {
      "application/vnd.jupyter.widget-view+json": {
       "model_id": "18d008360e964c12b3fac189c2402053",
       "version_major": 2,
       "version_minor": 0
      },
      "text/plain": [
       "interactive(children=(FloatSlider(value=5.0, description='initial_Si', max=5.0), FloatSlider(value=2.0, descri…"
      ]
     },
     "metadata": {},
     "output_type": "display_data"
    },
    {
     "data": {
      "text/plain": [
       "<function __main__.plot_dynamic(initial_Si, initial_A, initial_R, initial_Em1)>"
      ]
     },
     "execution_count": 24,
     "metadata": {},
     "output_type": "execute_result"
    }
   ],
   "source": [
    "import numpy as np\n",
    "import scipy.integrate as integrate\n",
    "import matplotlib.pyplot as plt\n",
    "from ipywidgets import interact_manual, widgets\n",
    "from IPython.display import display\n",
    "\n",
    "def MM(x, vr, kr, fi):\n",
    "    return (x * fi * vr) / (x * fi + kr)\n",
    "\n",
    "def derivs_mod0(t, y, params):\n",
    "    Si, A, R, H, Em1 = y\n",
    "    dSi_dt = - MM(Si, params['v_a'], params['k_a'],1) * Em1\n",
    "    dA_dt = MM(Si, params['v_a'], params['k_a'],1) * Em1 - MM(A, params['v_r'], params['k_r'], params['f_em1']) * R - MM(A, params['v_r'], params['k_r'], params['f_h']) * R - MM(A, params['v_r'], params['k_r'], params['f_r']) * R\n",
    "    dR_dt = MM(A, params['v_r'], params['k_r'], params['f_r']) * R\n",
    "    dH_dt = MM(A, params['v_r'], params['k_r'], params['f_h']) * R\n",
    "    dEm1_dt = MM(A, params['v_r'], params['k_r'], params['f_em1']) * R\n",
    "    return np.array([dSi_dt, dA_dt, dR_dt, dH_dt, dEm1_dt])\n",
    "\n",
    "def simulate_mod0(params, duration, initial_conditions):\n",
    "    y0 = np.array(initial_conditions)\n",
    "    ode_result = integrate.solve_ivp(lambda t, y: derivs_mod0(t, y, params),\n",
    "                                     (0, duration),\n",
    "                                     y0,\n",
    "                                     dense_output=True,\n",
    "                                     rtol=1e-6, atol=1e-9)\n",
    "    return ode_result.t, ode_result.y\n",
    "\n",
    "def plot_dynamic(initial_Si, initial_A, initial_R, initial_Em1):\n",
    "    # Fix values for v_a, k_a, v_r, k_r, f_em1, f_r, f_h, and duration\n",
    "    v_a, k_a, v_r, k_r, f_em1, f_r, f_h, duration = 10, 1, 10, 1, 0.30, 0.50, 0.20, 2\n",
    "    \n",
    "    # Check if the sum of f_em1, f_r, and f_h is equal to 1\n",
    "    if not np.isclose(f_em1 + f_r + f_h, 1, rtol=1e-5):\n",
    "        print(\"Error: Sum of f_em1, f_r, and f_h must be equal to 1.\")\n",
    "        return\n",
    "    \n",
    "    model_params = {'v_a': v_a, 'k_a': k_a, 'v_r': v_r, 'k_r': k_r, 'f_em1': f_em1, 'f_h': f_h, 'f_r': f_r}\n",
    "    initial_conditions = [initial_Si, initial_A, initial_R, 0, initial_Em1]  # H is set to 0\n",
    "    \n",
    "    t, results = simulate_mod0(model_params, duration, initial_conditions)\n",
    "    \n",
    "    # Plotting the results\n",
    "    plt.figure(figsize=(12, 8))\n",
    "    \n",
    "    # Plot each variable separately with specified colors\n",
    "    plt.plot(t, results[0], label='Si', color='orange')\n",
    "    plt.plot(t, results[1], label='A', color='brown')\n",
    "    plt.plot(t, results[2], label='R', color='lightgreen')\n",
    "    plt.plot(t, results[3], label='H', color='red')\n",
    "    plt.plot(t, results[4], label='Em1', color='darkgreen') \n",
    "    \n",
    "    plt.xlabel('Time')\n",
    "    plt.ylabel('Concentration')\n",
    "    plt.title('Simulation of the model 0 - cell-free')\n",
    "    \n",
    "    # Set y-axis limits to [0, 8]\n",
    "    plt.ylim([0, 8])\n",
    "    \n",
    "    # Add legend based on the variables in your model\n",
    "    plt.legend()\n",
    "    \n",
    "    # Annotate the plot with parameter values\n",
    "    params_text = '\\n'.join([f'{key}: {value}' for key, value in model_params.items()])\n",
    "    plt.text(1.05, 0.5, params_text, transform=plt.gca().transAxes, fontsize=12, verticalalignment='center')\n",
    "    \n",
    "    # Annotate the plot with initial composition\n",
    "    init_comp_text = f'Initial Composition:\\nSi: {initial_conditions[0]}, A: {initial_conditions[1]}, R: {initial_conditions[2]}, H: {initial_conditions[3]}, Em1: {initial_conditions[4]}'\n",
    "    plt.text(1.05, 0.2, init_comp_text, transform=plt.gca().transAxes, fontsize=12, verticalalignment='center')\n",
    "    \n",
    "    plt.show()\n",
    "\n",
    "# Create FloatSliders with initial values\n",
    "initial_Si = widgets.FloatSlider(min=0, max=5, step=0.1, value=5)\n",
    "initial_A = widgets.FloatSlider(min=0, max=5, step=0.1, value=2)\n",
    "initial_R = widgets.FloatSlider(min=0, max=5, step=0.1, value=1)\n",
    "initial_Em1 = widgets.FloatSlider(min=0, max=5, step=0.1, value=0)\n",
    "\n",
    "# Use interact_manual with the plotting function and sliders\n",
    "interact_manual(plot_dynamic, initial_Si=initial_Si, initial_A=initial_A, initial_R=initial_R, initial_Em1=initial_Em1)\n"
   ]
  },
  {
   "cell_type": "markdown",
   "id": "73f50c9e",
   "metadata": {},
   "source": [
    "1.4)1.3)\tDescribe the different types of resources present in this system (for catabolism or anabolism).\n",
    "\n",
    "1.5) Why does the concentration of some species never decrease? Which classical biological phenomenon is not considered by this simplified model? \n",
    "\n",
    "1.6) In all the above cases, the system eventually reaches a stage where nothing more is produced. Why? "
   ]
  },
  {
   "cell_type": "markdown",
   "id": "c76b8c89",
   "metadata": {},
   "source": [
    "## Model 2 - <i>in vivo\n",
    "\n",
    "Let's consider now a slightly more complicated system to represent a cell _in vivo_. Unlike cell-free, this cell is constrained by a membrane. \n",
    "1. The cell must internalize its substrate ($s$) from the surrounding environment using transport enzymes ($e_t$).\n",
    "2. This compartmentalization gives rise to density constraints. Based on experimental data, we assume that the cell maintains a constant mass density and volume. That means the cell mass (equal to the sum of all components) is proportional to the growth rate.\n",
    "    \n",
    "<img src='240109_Model2.png' width=50%/>\n",
    "    \n",
    "As depicted above, the cell is made of the following species: \n",
    "- an external substrate $s$\n",
    "- an internalized substrate $s_i$\n",
    "- a species $a$ representing both protein precursors and energy\n",
    "- a pool of ribosomes $r$ \n",
    "- a pool of housekeeping proteins $h$\n",
    "- a pool of enzymes for metabolism $e_{m1}$\n",
    "- a pool of enzymes for transport $e_t$\n",
    "    \n",
    "The actions of $r$, $e_{m1}$ and $e_t$ are modelled by a Michaelis-Menten function as before."
   ]
  },
  {
   "cell_type": "markdown",
   "id": "d52900f5",
   "metadata": {},
   "source": [
    "### Questions\n",
    "\n",
    "2.1) Write the system of differential equations describing this model. Add a term to account for dilution that take the growth rate into account.\n",
    "\n",
    "2.2) Using the graph below, we will describe the effects of variations in the proportions of each species produced.\n",
    "\n",
    "&emsp; a) Describe the effects on the system of a variation in the __ribosome fraction__. What happens when no ribosomes are neoformed? What happens when only ribosomes are produced? \n",
    "\n",
    "&emsp; b) Describe the effects on the system of a variation in the __metabolic enzymes fraction__. What happens when no metabolic enzymes are neoformed? What happens when only metabolic enzymes are produced? \n",
    "\n",
    "&emsp; c) Describe the effects on the system of a variation in the __housekeeping proteins fraction__. What happens when no housekeeping proteins are neoformed? What happens when only housekeeping proteins are produced? Interpret the biological significance. \n",
    "\n",
    "2.3) Why does the concentration of R, H em1 and et are constant at some point, while there is still energy?\n",
    "\n",
    "2.4) Find an expression for the cell growth rate $\\mu$ (think mass conservation and combine the differential equations).\n",
    "\n",
    "2.5) Using the graph below, find the optimal ratios f_E, f_R to maximise the growth rate?\n"
   ]
  },
  {
   "cell_type": "code",
   "execution_count": 39,
   "id": "e754060f",
   "metadata": {
    "scrolled": false
   },
   "outputs": [
    {
     "data": {
      "application/vnd.jupyter.widget-view+json": {
       "model_id": "19bddf4de1d54118bb77ae24359395c2",
       "version_major": 2,
       "version_minor": 0
      },
      "text/plain": [
       "interactive(children=(FloatSlider(value=0.25, description='f_em1', max=1.0), FloatSlider(value=0.25, descripti…"
      ]
     },
     "metadata": {},
     "output_type": "display_data"
    },
    {
     "data": {
      "text/plain": [
       "<function __main__.plot_dynamic(f_em1, f_r, f_h, f_et)>"
      ]
     },
     "execution_count": 39,
     "metadata": {},
     "output_type": "execute_result"
    }
   ],
   "source": [
    "import numpy as np\n",
    "import scipy.integrate as integrate\n",
    "import matplotlib.pyplot as plt\n",
    "from ipywidgets import interact_manual, widgets\n",
    "from IPython.display import display\n",
    "\n",
    "def MM(x, vr, kr, fi):\n",
    "    return (x * fi * vr) / (x * fi + kr)\n",
    "\n",
    "def derivs_mod0(t, y, params):\n",
    "    S, Si, A, R, H, Em1, Et, µ = y\n",
    "    dS_dt = - MM(S, params['v_et'], params['k_et'],1) * Et\n",
    "    dSi_dt = MM(S, params['v_et'], params['k_et'],1) * Et - MM(Si, params['v_a'], params['k_a'],1) * Em1 - µ * Si\n",
    "    dA_dt  = MM(Si, params['v_a'], params['k_a'],1) * Em1 -  MM(A, params['v_r'], params['k_r'], params['f_em1']) * R -  MM(A, params['v_r'], params['k_r'], params['f_h']) * R -  MM(A, params['v_r'], params['k_r'], params['f_r']) * R -  MM(A, params['v_r'], params['k_r'], params['f_et']) * R  - µ * A\n",
    "    dR_dt  =  MM(A, params['v_r'], params['k_r'], params['f_r']) * R  - µ * R\n",
    "    dH_dt  =  MM(A, params['v_r'], params['k_r'], params['f_h']) * R  - µ * H\n",
    "    dEm1_dt=  MM(A, params['v_r'], params['k_r'], params['f_em1']) * R  - µ * Em1\n",
    "    dEt_dt =  MM(A, params['v_r'], params['k_r'], params['f_et']) * R  - µ * Et\n",
    "    #µ = (dA_dt + dR_dt + dH_dt + dEm1_dt+ dEt_dt)/(A + R + H + Em1 + Et) # assume that density of Si is negligeable\n",
    "    µ = (dSi_dt + dA_dt + dR_dt + dH_dt + dEm1_dt+ dEt_dt)/(Si + A + R + H + Em1 + Et)\n",
    "    return np.array([dS_dt, dSi_dt, dA_dt, dR_dt, dH_dt, dEm1_dt, dEt_dt, µ])\n",
    "\n",
    "def simulate_mod0(params, duration, initial_conditions):\n",
    "    y0 = np.array(initial_conditions)\n",
    "    ode_result = integrate.solve_ivp(lambda t, y: derivs_mod0(t, y, params),\n",
    "                                     (0, duration),\n",
    "                                     y0,\n",
    "                                     dense_output=True,\n",
    "                                     rtol=1e-6, atol=1e-9)\n",
    "    return ode_result.t, ode_result.y\n",
    "\n",
    "def plot_dynamic(f_em1, f_r, f_h, f_et):\n",
    "    # Fix values for v_a, k_a, v_r, k_r, and duration\n",
    "    v_a, k_a, v_r, k_r, v_et, k_et, duration = 5, 1, 3, 1, 7, 1, 80 ### CHANGE HERE\n",
    "    \n",
    "    # Check if the sum of f_em1, f_r, and f_h is equal to 1\n",
    "    if not np.isclose(f_em1 + f_r + f_h + f_et, 1, rtol=1e-5):\n",
    "        print(\"Error: Sum of f_em1, f_r, f_h and f_et must be equal to 1.\")\n",
    "        return\n",
    "    \n",
    "    model_params = {'v_a': v_a, 'k_a': k_a, 'v_r': v_r, 'k_r': k_r, 'v_et': v_et, 'k_et': k_et, 'f_em1': f_em1, 'f_h': f_h, 'f_r': f_r, 'f_et': f_et}\n",
    "    initial_conditions = [1000, 0, 0, 1, 1, 1, 1, 0]  # You can adjust the initial conditions as needed\n",
    "    \n",
    "    t, results = simulate_mod0(model_params, duration, initial_conditions)\n",
    "    \n",
    "    # Plotting the results\n",
    "    plt.figure(figsize=(12, 8))\n",
    "    \n",
    "    # Plot each variable separately with specified colors\n",
    "    plt.plot(t, results[1], label='Si', color='orange')\n",
    "    plt.plot(t, results[2], label='A', color='brown')\n",
    "    plt.plot(t, results[3], label='R', color='lightgreen')\n",
    "    plt.plot(t, results[4], label='H', color='red')\n",
    "    plt.plot(t, results[5], label='Em1', color='darkgreen') \n",
    "    plt.plot(t, results[6], label='Et', color='blue')\n",
    "    plt.plot(t, results[7], label='µ', color='salmon')\n",
    "    #plt.plot(t, (results[1] + results[2] + results[3] + results[4]+ results[5]+ results[6]), label='tot', color='purple')\n",
    "    \n",
    "    plt.xlabel('Time')\n",
    "    plt.ylabel('Concentration')\n",
    "    plt.title('Simulation of the model 1 - in vivo')\n",
    "    plt.grid(True, linestyle='--', alpha=0.7)\n",
    "    \n",
    "    # Set y-axis limits\n",
    "    plt.ylim([0, 2])\n",
    "    \n",
    "    # Add legend based on the variables in your model\n",
    "    plt.legend()\n",
    "    \n",
    "    # Annotate the plot with parameter values\n",
    "    params_text = '\\n'.join([f'{key}: {value}' for key, value in model_params.items()])\n",
    "    plt.text(1.05, 0.5, params_text, transform=plt.gca().transAxes, fontsize=12, verticalalignment='center')\n",
    "    \n",
    "    # Annotate the plot with initial composition\n",
    "    init_comp_text = f'Initial Composition:\\nSi: {initial_conditions[1]}, A: {initial_conditions[2]}, R: {initial_conditions[3]}, H: {initial_conditions[4]}, Em1: {initial_conditions[5]}, Et: {initial_conditions[6]}, µ: {initial_conditions[7]}'\n",
    "    plt.text(1.05, 0.2, init_comp_text, transform=plt.gca().transAxes, fontsize=12, verticalalignment='center')\n",
    "    \n",
    "    plt.show()\n",
    "\n",
    "# Create FloatSliders with initial values\n",
    "f_em1 = widgets.FloatSlider(min=0, max=1, step=0.1, value=0.25)\n",
    "f_r = widgets.FloatSlider(min=0, max=1, step=0.1, value=0.25)\n",
    "f_h = widgets.FloatSlider(min=0, max=1, step=0.1, value=0.25)\n",
    "f_et = widgets.FloatSlider(min=0, max=1, step=0.1, value=0.25)\n",
    "\n",
    "# Use interact_manual with the plotting function and sliders\n",
    "interact_manual(plot_dynamic, f_em1=f_em1, f_r=f_r, f_h=f_h, f_et=f_et)"
   ]
  },
  {
   "cell_type": "markdown",
   "id": "c2d5dee7",
   "metadata": {},
   "source": [
    "2.6) Using the graph below, analyse the change in µ as Si increases. What biological law do you recognise?\n",
    "\n",
    "ATTENTION ne marche pas"
   ]
  },
  {
   "cell_type": "code",
   "execution_count": 42,
   "id": "2e849412",
   "metadata": {},
   "outputs": [
    {
     "data": {
      "application/vnd.jupyter.widget-view+json": {
       "model_id": "5054f1bfd7f746f082c5f30d65ba7f9b",
       "version_major": 2,
       "version_minor": 0
      },
      "text/plain": [
       "interactive(children=(FloatSlider(value=1000.0, description='S', max=2000.0, step=100.0), Button(description='…"
      ]
     },
     "metadata": {},
     "output_type": "display_data"
    }
   ],
   "source": [
    "def plot_dynamic(initial_f_em1=0.3, initial_f_r=0.4, initial_f_h=0.1, initial_f_et=0.2, initial_S=1000):\n",
    "    # Fix values for v_a, k_a, v_r, k_r, and duration\n",
    "    v_a, k_a, v_r, k_r, v_et, k_et, duration = 5, 1, 3, 1, 7, 1, 80  # CHANGE HERE\n",
    "\n",
    "    # Check if the sum of initial_f_em1, initial_f_r, initial_f_h, and initial_f_et is equal to 1\n",
    "    if not np.isclose(initial_f_em1 + initial_f_r + initial_f_h + initial_f_et, 1, rtol=1e-5):\n",
    "        print(\"Error: Sum of initial_f_em1, initial_f_r, initial_f_h, and initial_f_et must be equal to 1.\")\n",
    "        return\n",
    "\n",
    "    model_params = {'v_a': v_a, 'k_a': k_a, 'v_r': v_r, 'k_r': k_r, 'v_et': v_et, 'k_et': k_et,\n",
    "                    'f_em1': initial_f_em1, 'f_h': initial_f_h, 'f_r': initial_f_r, 'f_et': initial_f_et}\n",
    "    initial_conditions = [initial_S, 0, 0, 1, 1, 1, 1, 0]  # S is now a variable\n",
    "\n",
    "    def simulate_and_plot(S):\n",
    "        initial_conditions[0] = S  # Update S in the initial conditions\n",
    "        t, results = simulate_mod0(model_params, duration, initial_conditions)\n",
    "\n",
    "        # Plotting the results\n",
    "        plt.figure(figsize=(12, 8))\n",
    "\n",
    "        # Plot each variable separately with specified colors\n",
    "        plt.plot(t, results[1], label='Si', color='orange')\n",
    "        plt.plot(t, results[2], label='A', color='brown')\n",
    "        plt.plot(t, results[3], label='R', color='lightgreen')\n",
    "        plt.plot(t, results[4], label='H', color='red')\n",
    "        plt.plot(t, results[5], label='Em1', color='darkgreen')\n",
    "        plt.plot(t, results[6], label='Et', color='blue')\n",
    "        plt.plot(t, results[7], label='µ', color='salmon')\n",
    "\n",
    "        plt.xlabel('Time')\n",
    "        plt.ylabel('Concentration')\n",
    "        plt.title('Simulation of the model 1 - in vivo')\n",
    "        plt.grid(True, linestyle='--', alpha=0.7)\n",
    "\n",
    "        # Set y-axis limits\n",
    "        plt.ylim([0, 2])\n",
    "\n",
    "        # Add legend based on the variables in your model\n",
    "        plt.legend()\n",
    "\n",
    "        # Annotate the plot with parameter values\n",
    "        params_text = '\\n'.join([f'{key}: {value}' for key, value in model_params.items()])\n",
    "        plt.text(1.05, 0.5, params_text, transform=plt.gca().transAxes, fontsize=12, verticalalignment='center')\n",
    "\n",
    "        # Annotate the plot with initial composition\n",
    "        init_comp_text = f'Initial Composition:\\nS: {initial_conditions[0]}, A: {initial_conditions[2]}, R: {initial_conditions[3]}, H: {initial_conditions[4]}, Em1: {initial_conditions[5]}, Et: {initial_conditions[6]}, µ: {initial_conditions[7]}'\n",
    "        plt.text(1.05, 0.2, init_comp_text, transform=plt.gca().transAxes, fontsize=12, verticalalignment='center')\n",
    "\n",
    "        plt.show()\n",
    "\n",
    "    # Create FloatSlider for S with initial value\n",
    "    S_slider = widgets.FloatSlider(min=0, max=2000, step=100, value=initial_S)\n",
    "\n",
    "    # Use interact_manual with the plotting function and slider\n",
    "    interact_manual(simulate_and_plot, S=S_slider)\n",
    "\n",
    "# Call the function with the initial parameters\n",
    "plot_dynamic()\n"
   ]
  },
  {
   "cell_type": "markdown",
   "id": "297b3876",
   "metadata": {},
   "source": [
    "## Model 3 - _in vivo_ with two metabolic pathways\n",
    "\n",
    "Let's consider now a slightly more complicated system to represent a cell _in vivo_. In cells, several metabolic pathways are encoded in the genome and can be activated depending on the environment. Here we show :\n",
    "- an expensive but highly efficient metabolic pathway (em1) \n",
    "- an inexpensive but not very efficient metabolic pathway (em2)\n",
    "    \n",
    "<img src='240109_Model3.png' width=60%/>\n",
    "    \n",
    "As depicted above, the cell is made of the following species: \n",
    "- an external substrate $s$\n",
    "- an internalized substrate $s_i$\n",
    "- a species $a$ representing both protein precursors and energy\n",
    "- a pool of ribosomes $r$ \n",
    "- a pool of housekeeping proteins $h$\n",
    "- a pool of enzymes for metabolism $e_{m1}$ and $e_{m2}$\n",
    "- a pool of enzymes for transport $e_t$\n",
    "    \n",
    "The actions of $r$, $e_{m1}$, $e_{m2}$ and $e_t$ are modelled by a Michaelis-Menten function as before."
   ]
  },
  {
   "cell_type": "code",
   "execution_count": null,
   "id": "5f839fe9",
   "metadata": {},
   "outputs": [],
   "source": []
  }
 ],
 "metadata": {
  "kernelspec": {
   "display_name": "Python 3 (ipykernel)",
   "language": "python",
   "name": "python3"
  },
  "language_info": {
   "codemirror_mode": {
    "name": "ipython",
    "version": 3
   },
   "file_extension": ".py",
   "mimetype": "text/x-python",
   "name": "python",
   "nbconvert_exporter": "python",
   "pygments_lexer": "ipython3",
   "version": "3.9.13"
  }
 },
 "nbformat": 4,
 "nbformat_minor": 5
}
